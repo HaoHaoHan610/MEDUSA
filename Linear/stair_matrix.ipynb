{
 "cells": [
  {
   "cell_type": "code",
   "execution_count": null,
   "id": "a8859f34",
   "metadata": {},
   "outputs": [],
   "source": [
    "import numpy as np\n",
    "\n",
    "arr = np.array([[1,34,5,5],[3,4,5,6]])\n",
    "# swap the first row with first line is not 0\n",
    "\n"
   ]
  },
  {
   "cell_type": "markdown",
   "id": "62bf0be1",
   "metadata": {},
   "source": [
    "- Try swapping"
   ]
  },
  {
   "cell_type": "code",
   "execution_count": 9,
   "id": "3eaa9e43",
   "metadata": {},
   "outputs": [
    {
     "name": "stdout",
     "output_type": "stream",
     "text": [
      "[[3 4 5 6]\n",
      " [3 4 5 6]]\n",
      "2 4\n"
     ]
    }
   ],
   "source": [
    "import numpy as np\n",
    "arr = np.array([[1,34,5,5],[3,4,5,6]])\n",
    "\n",
    "arr[0], arr[1] = arr[1], arr[0]\n",
    "\n",
    "print(arr)\n",
    "\n",
    "print(arr.shape[0],arr.shape[1])\n"
   ]
  },
  {
   "cell_type": "markdown",
   "id": "4410e852",
   "metadata": {},
   "source": [
    "-  *.any()* in list help to check if the element in list\n",
    "- shape return list of course u can apply any attribute of list "
   ]
  },
  {
   "cell_type": "code",
   "execution_count": 12,
   "id": "69f4bead",
   "metadata": {},
   "outputs": [
    {
     "name": "stdout",
     "output_type": "stream",
     "text": [
      "Matrix Before Converting:\n",
      "[[ 2 -2  4 -2]\n",
      " [ 2  1 10  7]\n",
      " [-4  4 -8  4]\n",
      " [ 4 -1 14  6]]\n",
      "\n",
      "After Converting to Row Echelon Form:\n",
      "[[ 1 -1  2 -1]\n",
      " [ 0  1  2  3]\n",
      " [ 0  0  0  1]\n",
      " [ 0  0  0  0]]\n",
      "In REF\n"
     ]
    }
   ],
   "source": [
    "\n",
    "import numpy as np\n",
    "# Function to check if matrix is in REF\n",
    "\n",
    "def is_row_echelon_form(matrix):\n",
    "    if not matrix.any():\n",
    "        return False\n",
    "\n",
    "    rows = matrix.shape[0]\n",
    "    cols = matrix.shape[1]\n",
    "    prev_leading_col = -1\n",
    "\n",
    "    for row in range(rows):\n",
    "        leading_col_found = False\n",
    "        for col in range(cols):\n",
    "            if matrix[row, col] != 0:\n",
    "                if col <= prev_leading_col:\n",
    "                    return False\n",
    "                prev_leading_col = col\n",
    "                leading_col_found = True\n",
    "                break\n",
    "        if not leading_col_found and any(matrix[row, col] != 0 for col in range(cols)):\n",
    "            return False\n",
    "    return True\n",
    "\n",
    "def find_nonzero_row(matrix, pivot_row, col):\n",
    "    nrows = matrix.shape[0]\n",
    "    for row in range(pivot_row, nrows):\n",
    "        if matrix[row, col] != 0:\n",
    "            return row\n",
    "    return None\n",
    "\n",
    "# Swapping rows so that we can have our non zero row on the top of the matrix\n",
    "def swap_rows(matrix, row1, row2):\n",
    "    matrix[[row1, row2]] = matrix[[row2, row1]]\n",
    "\n",
    "def make_pivot_one(matrix, pivot_row, col):\n",
    "    pivot_element = matrix[pivot_row, col]\n",
    "    matrix[pivot_row] //= pivot_element\n",
    "    # print(pivot_element)\n",
    "\n",
    "def eliminate_below(matrix, pivot_row, col):\n",
    "    nrows = matrix.shape[0]\n",
    "    pivot_element = matrix[pivot_row, col]\n",
    "    for row in range(pivot_row + 1, nrows):\n",
    "        factor = matrix[row, col]\n",
    "        matrix[row] -= factor * matrix[pivot_row]\n",
    "\n",
    "# Implementing above functions\n",
    "def row_echelon_form(matrix):\n",
    "    nrows = matrix.shape[0]\n",
    "    ncols = matrix.shape[1]\n",
    "    pivot_row = 0\n",
    "# this will run for number of column times. If matrix has 3 columns this loop will run for 3 times\n",
    "    for col in range(ncols):\n",
    "        nonzero_row = find_nonzero_row(matrix, pivot_row, col)\n",
    "        if nonzero_row is not None:\n",
    "            swap_rows(matrix, pivot_row, nonzero_row)\n",
    "            make_pivot_one(matrix, pivot_row, col)\n",
    "            eliminate_below(matrix, pivot_row, col)\n",
    "            pivot_row += 1\n",
    "    return matrix\n",
    "\n",
    "\n",
    "matrix = np.array([[2,-2,4,-2],[2,1,10,7],[-4,4,-8,4],[4,-1,14,6]])\n",
    "print(\"Matrix Before Converting:\")\n",
    "print(matrix)\n",
    "print()\n",
    "result = row_echelon_form(matrix)\n",
    "print(\"After Converting to Row Echelon Form:\")\n",
    "print(result)\n",
    "if is_row_echelon_form(result):\n",
    "    print(\"In REF\")\n",
    "else:\n",
    "    print(\"Not in REF--------------->\")"
   ]
  },
  {
   "cell_type": "code",
   "execution_count": 32,
   "id": "51d1b7dd",
   "metadata": {},
   "outputs": [
    {
     "name": "stdout",
     "output_type": "stream",
     "text": [
      "[[ 1.         -0.66666667  1.33333333 -0.66666667]\n",
      " [ 0.          1.          3.14285714  3.57142857]\n",
      " [-0.         -0.          1.          0.5       ]\n",
      " [ 0.          0.          0.          1.        ]]\n"
     ]
    }
   ],
   "source": [
    "import numpy as np\n",
    "\n",
    "def swapping(matrix,row1,row2):\n",
    "    matrix[[row1,row2]] = matrix[[row2,row1]]\n",
    "\n",
    "def non_zeros(matrix,pivot_row,col):\n",
    "    nrows = matrix.shape[0]\n",
    "    for row in range(pivot_row,nrows):\n",
    "        if abs(matrix[row,col]) > 1e-6:\n",
    "            return row\n",
    "    return None\n",
    "\n",
    "def make_pivot(matrix,pivot,col):\n",
    "    pivot_element = matrix[pivot,col]\n",
    "    matrix[pivot] /= pivot_element\n",
    "# pivot row is divided into 1 -> easy to calculate\n",
    "\n",
    "def eliminate_below(matrix,pivot_row,col):\n",
    "    nrow = matrix.shape[0]\n",
    "    for row in range(pivot_row+1,nrow):\n",
    "        factor = matrix[row,col]\n",
    "        matrix[row] -= factor*matrix[pivot_row]\n",
    "\n",
    "def form_Echelon(matrix):\n",
    "    nrow = matrix.shape[0]\n",
    "    ncol = matrix.shape[1]\n",
    "\n",
    "    pivot = 0\n",
    "\n",
    "    for col in range(ncol):\n",
    "        non = non_zeros(matrix=matrix,pivot_row=pivot,col=col)\n",
    "        if non is not None:\n",
    "            swapping(matrix=matrix,row1=pivot,row2=non)\n",
    "            make_pivot(matrix,pivot=pivot,col=col)\n",
    "            eliminate_below(matrix=matrix,pivot_row=pivot,col=col)\n",
    "            pivot += 1\n",
    "    \n",
    "    return matrix\n",
    "\n",
    "\n",
    "matrix = np.array([[3,-2,4,-2],[2,1,10,7],[-4,4,-8,4],[4,-1,14,6]],dtype=float)\n",
    "\n",
    "\n",
    "\n",
    "\n",
    "\n",
    "result = form_Echelon(matrix=matrix)\n",
    "print(result)"
   ]
  }
 ],
 "metadata": {
  "kernelspec": {
   "display_name": "Linear",
   "language": "python",
   "name": "python3"
  },
  "language_info": {
   "codemirror_mode": {
    "name": "ipython",
    "version": 3
   },
   "file_extension": ".py",
   "mimetype": "text/x-python",
   "name": "python",
   "nbconvert_exporter": "python",
   "pygments_lexer": "ipython3",
   "version": "3.13.6"
  }
 },
 "nbformat": 4,
 "nbformat_minor": 5
}
